{
 "cells": [
  {
   "cell_type": "code",
   "execution_count": 3,
   "metadata": {},
   "outputs": [
    {
     "name": "stderr",
     "output_type": "stream",
     "text": [
      "/Users/Michael/Library/Python/2.7/lib/python/site-packages/h5py/__init__.py:36: FutureWarning: Conversion of the second argument of issubdtype from `float` to `np.floating` is deprecated. In future, it will be treated as `np.float64 == np.dtype(float).type`.\n",
      "  from ._conv import register_converters as _register_converters\n",
      "Using TensorFlow backend.\n"
     ]
    }
   ],
   "source": [
    "import pandas as pd\n",
    "import numpy as np\n",
    "import keras\n",
    "from keras.layers import Dense, Input, LSTM, concatenate, Embedding,multiply,Lambda\n",
    "from keras import backend as K\n",
    "from keras.models import Sequential, Model\n",
    "from keras.callbacks import ModelCheckpoint\n",
    "from keras.preprocessing import sequence\n",
    "from sklearn.model_selection import train_test_split\n",
    "import gc\n",
    "import matplotlib.pyplot as plt\n",
    "import os\n",
    "import csv\n",
    "from datetime import datetime\n",
    "from log import _check_log_directory,_initialise_model_log\n",
    "from operator import itemgetter\n",
    "from keras.utils import plot_model\n",
    "import pickle\n",
    "from load_features import load_features\n",
    "from nltk.corpus import stopwords"
   ]
  },
  {
   "cell_type": "markdown",
   "metadata": {},
   "source": [
    "# Load data"
   ]
  },
  {
   "cell_type": "code",
   "execution_count": 5,
   "metadata": {},
   "outputs": [],
   "source": [
    "data_dir = \"data/\"\n",
    "log_dir = './log'"
   ]
  },
  {
   "cell_type": "code",
   "execution_count": 6,
   "metadata": {},
   "outputs": [],
   "source": [
    "features_train, features_test, data_train = load_features(data_dir)\n",
    "data_test = pd.read_csv(data_dir+'test.csv', sep=',',names = [\"id\", \"qid1\", \"qid2\", \"question1\",\"question2\",\"is_duplicate\"])"
   ]
  },
  {
   "cell_type": "code",
   "execution_count": 7,
   "metadata": {},
   "outputs": [],
   "source": [
    "X = features_train.drop(['is_duplicate'],axis=1)\n",
    "X_test = features_test\n",
    "X = X.replace([np.inf, -np.inf], np.nan)\n",
    "X = X .fillna(value=0)\n",
    "X_test=X_test.replace([np.inf, -np.inf], np.nan)\n",
    "X_test=X_test.fillna(value=0)\n",
    "Y = data_train[\"is_duplicate\"].values"
   ]
  },
  {
   "cell_type": "code",
   "execution_count": 8,
   "metadata": {},
   "outputs": [
    {
     "data": {
      "text/plain": [
       "Index([      u'len_q1',       u'len_q2',     u'diff_len',  u'len_char_q1',\n",
       "        u'len_char_q2',  u'len_word_q1',  u'len_word_q2', u'common_words',\n",
       "        u'fuzz_qratio',  u'fuzz_WRatio',\n",
       "       ...\n",
       "           u'num_w_q1',     u'num_w_q2',     u'num_v_q1',     u'num_v_q2',\n",
       "           u'num_y_q1',     u'num_y_q2',     u'num_x_q1',     u'num_x_q2',\n",
       "           u'num_z_q1',     u'num_z_q2'],\n",
       "      dtype='object', length=158)"
      ]
     },
     "execution_count": 8,
     "metadata": {},
     "output_type": "execute_result"
    }
   ],
   "source": [
    "X.columns"
   ]
  },
  {
   "cell_type": "markdown",
   "metadata": {},
   "source": [
    "# Fully connected neural network"
   ]
  },
  {
   "cell_type": "code",
   "execution_count": 9,
   "metadata": {},
   "outputs": [
    {
     "data": {
      "text/plain": [
       "578"
      ]
     },
     "execution_count": 9,
     "metadata": {},
     "output_type": "execute_result"
    }
   ],
   "source": [
    "data = X\n",
    "test_size = 0.1\n",
    "X_train, X_val, Y_train, Y_val = train_test_split(data, Y, test_size=test_size)\n",
    "del data\n",
    "gc.collect()"
   ]
  },
  {
   "cell_type": "code",
   "execution_count": 10,
   "metadata": {},
   "outputs": [
    {
     "name": "stdout",
     "output_type": "stream",
     "text": [
      "number of features = 158\n"
     ]
    }
   ],
   "source": [
    "number_of_features = X.values.shape[1]\n",
    "print \"number of features =\", number_of_features"
   ]
  },
  {
   "cell_type": "markdown",
   "metadata": {},
   "source": [
    "## First training phase "
   ]
  },
  {
   "cell_type": "code",
   "execution_count": 10,
   "metadata": {
    "scrolled": true
   },
   "outputs": [
    {
     "name": "stdout",
     "output_type": "stream",
     "text": [
      "Train on 72090 samples, validate on 8010 samples\n",
      "Epoch 1/2\n",
      "72000/72090 [============================>.] - ETA: 0s - loss: 0.5213\n",
      "Epoch 00001: val_loss improved from inf to 0.36622, saving model to data/weights_1hidden_layer.best.h5\n",
      "72090/72090 [==============================] - 11s 150us/step - loss: 0.5212 - val_loss: 0.3662\n",
      "Epoch 2/2\n",
      "72064/72090 [============================>.] - ETA: 0s - loss: 0.3049\n",
      "Epoch 00002: val_loss improved from 0.36622 to 0.28652, saving model to data/weights_1hidden_layer.best.h5\n",
      "\n",
      "Epoch 00002: saving model to data/weights_1hidden_layer.last.h5\n",
      "72090/72090 [==============================] - 8s 114us/step - loss: 0.3048 - val_loss: 0.2865\n"
     ]
    }
   ],
   "source": [
    "X_train_np = X_train.values\n",
    "X_val_np = X_val.values\n",
    "Y_train_np = Y_train\n",
    "Y_val_np  = Y_val\n",
    "\n",
    "shape = (X_train_np.shape[1],)\n",
    "model = Sequential()\n",
    "model.add(Dense(1024, activation='sigmoid',input_shape=shape))\n",
    "model.add(Dense(1,activation = \"sigmoid\"))\n",
    "opt = keras.optimizers.Adam(lr=0.0001)\n",
    "model.compile(loss='binary_crossentropy', optimizer=opt)\n",
    "\n",
    "\n",
    "weights_path = os.path.join(data_dir,'weights_1hidden_layer')\n",
    "weights_path_best = weights_path + \".best.h5\"\n",
    "weights_path_last = weights_path + \".last.h5\"\n",
    "checkpoint_best = ModelCheckpoint(weights_path_best, monitor='val_loss', verbose=1, save_best_only=True, save_weights_only=True, mode='min')\n",
    "checkpoint_last = ModelCheckpoint(weights_path_last, verbose=1, save_weights_only=True, period=2)\n",
    "callbacks = [checkpoint_best,checkpoint_last]\n",
    "history = model.fit(X_train_np,Y_train_np,epochs=20,validation_data =(X_val_np,Y_val_np),callbacks=callbacks)"
   ]
  },
  {
   "cell_type": "markdown",
   "metadata": {},
   "source": [
    "## Second training phase "
   ]
  },
  {
   "cell_type": "code",
   "execution_count": 13,
   "metadata": {
    "scrolled": true
   },
   "outputs": [
    {
     "name": "stdout",
     "output_type": "stream",
     "text": [
      "Train on 72090 samples, validate on 8010 samples\n",
      "Epoch 1/2\n",
      "72032/72090 [============================>.] - ETA: 0s - loss: 0.2267\n",
      "Epoch 00001: val_loss improved from 0.22754 to 0.22145, saving model to data/weights_1hidden_layer.best.h5\n",
      "72090/72090 [==============================] - 8s 116us/step - loss: 0.2268 - val_loss: 0.2214\n",
      "Epoch 2/2\n",
      "71680/72090 [============================>.] - ETA: 0s - loss: 0.2217\n",
      "Epoch 00002: val_loss improved from 0.22145 to 0.21588, saving model to data/weights_1hidden_layer.best.h5\n",
      "\n",
      "Epoch 00002: saving model to data/weights_1hidden_layer.last.h5\n",
      "72090/72090 [==============================] - 8s 115us/step - loss: 0.2219 - val_loss: 0.2159\n"
     ]
    }
   ],
   "source": [
    "opt = keras.optimizers.Adam(lr=0.00001)\n",
    "model.compile(loss='binary_crossentropy', optimizer=opt)\n",
    "history2 = model.fit(X_train_np,Y_train_np,epochs=15,validation_data =(X_val_np,Y_val_np),callbacks=callbacks)"
   ]
  },
  {
   "cell_type": "markdown",
   "metadata": {},
   "source": [
    "## Plot losses"
   ]
  },
  {
   "cell_type": "code",
   "execution_count": 12,
   "metadata": {},
   "outputs": [
    {
     "data": {
      "image/png": "[encoded data removed]",
      "text/plain": [
       "<matplotlib.figure.Figure at 0x7f4ba4e5ce50>"
      ]
     },
     "metadata": {},
     "output_type": "display_data"
    }
   ],
   "source": [
    "plt.rcParams[\"figure.figsize\"] = (14,8)\n",
    "plt.plot(history.history[\"loss\"]+history2.history[\"loss\"])\n",
    "plt.plot(history.history[\"val_loss\"]+history2.history[\"val_loss\"])\n",
    "plt.ylabel(\"loss\")\n",
    "plt.xlabel(\"epoch\")\n",
    "plt.legend([\"train\", \"val\"], loc=\"upper right\")\n",
    "plt.show()"
   ]
  },
  {
   "cell_type": "markdown",
   "metadata": {},
   "source": [
    "## Load best model and predict"
   ]
  },
  {
   "cell_type": "code",
   "execution_count": 11,
   "metadata": {},
   "outputs": [],
   "source": [
    "model.load_weights(weights_path_best)\n",
    "pred = model.predict([X_test])"
   ]
  },
  {
   "cell_type": "markdown",
   "metadata": {},
   "source": [
    "## save result in csv"
   ]
  },
  {
   "cell_type": "code",
   "execution_count": 12,
   "metadata": {
    "scrolled": true
   },
   "outputs": [
    {
     "data": {
      "text/html": [
       "<div>\n",
       "<style scoped>\n",
       "    .dataframe tbody tr th:only-of-type {\n",
       "        vertical-align: middle;\n",
       "    }\n",
       "\n",
       "    .dataframe tbody tr th {\n",
       "        vertical-align: top;\n",
       "    }\n",
       "\n",
       "    .dataframe thead th {\n",
       "        text-align: right;\n",
       "    }\n",
       "</style>\n",
       "<table border=\"1\" class=\"dataframe\">\n",
       "  <thead>\n",
       "    <tr style=\"text-align: right;\">\n",
       "      <th></th>\n",
       "      <th>Score</th>\n",
       "    </tr>\n",
       "  </thead>\n",
       "  <tbody>\n",
       "    <tr>\n",
       "      <th>count</th>\n",
       "      <td>20179.000000</td>\n",
       "    </tr>\n",
       "    <tr>\n",
       "      <th>mean</th>\n",
       "      <td>0.633585</td>\n",
       "    </tr>\n",
       "    <tr>\n",
       "      <th>std</th>\n",
       "      <td>0.384509</td>\n",
       "    </tr>\n",
       "    <tr>\n",
       "      <th>min</th>\n",
       "      <td>0.070447</td>\n",
       "    </tr>\n",
       "    <tr>\n",
       "      <th>25%</th>\n",
       "      <td>0.191852</td>\n",
       "    </tr>\n",
       "    <tr>\n",
       "      <th>50%</th>\n",
       "      <td>0.942075</td>\n",
       "    </tr>\n",
       "    <tr>\n",
       "      <th>75%</th>\n",
       "      <td>0.967982</td>\n",
       "    </tr>\n",
       "    <tr>\n",
       "      <th>max</th>\n",
       "      <td>0.999991</td>\n",
       "    </tr>\n",
       "  </tbody>\n",
       "</table>\n",
       "</div>"
      ],
      "text/plain": [
       "              Score\n",
       "count  20179.000000\n",
       "mean       0.633585\n",
       "std        0.384509\n",
       "min        0.070447\n",
       "25%        0.191852\n",
       "50%        0.942075\n",
       "75%        0.967982\n",
       "max        0.999991"
      ]
     },
     "execution_count": 12,
     "metadata": {},
     "output_type": "execute_result"
    }
   ],
   "source": [
    "df_pred = pd.DataFrame(pred)\n",
    "df_pred.index = X_test.index\n",
    "df_pred.columns = [\"Score\"]\n",
    "df_pred.to_csv(\"data/submission_file_FCNN_1hidden1024_99features_0,21.csv\",index_label=\"Id\")\n",
    "df_pred.describe()"
   ]
  },
  {
   "cell_type": "markdown",
   "metadata": {},
   "source": [
    "# LSTM\n",
    "## Choose if removing stopwords"
   ]
  },
  {
   "cell_type": "code",
   "execution_count": 11,
   "metadata": {},
   "outputs": [],
   "source": [
    "remove_stopwords = False"
   ]
  },
  {
   "cell_type": "markdown",
   "metadata": {},
   "source": [
    "## Compute maximal question length"
   ]
  },
  {
   "cell_type": "code",
   "execution_count": 12,
   "metadata": {},
   "outputs": [],
   "source": [
    "q1_train = data_train[\"question1\"]\n",
    "q2_train = data_train[\"question2\"]\n",
    "q1_test = data_test[\"question1\"]\n",
    "q2_test = data_test[\"question2\"]"
   ]
  },
  {
   "cell_type": "code",
   "execution_count": 13,
   "metadata": {},
   "outputs": [],
   "source": [
    "q1_train_sp = [q.lower().replace('?','').split() for q in q1_train]\n",
    "q2_train_sp = [q.lower().replace('?','').split() for q in q2_train]\n",
    "q1_test_sp = [q.lower().replace('?','').split() for q in q1_test]\n",
    "q2_test_sp = [q.lower().replace('?','').split() for q in q2_test]\n",
    "\n",
    "if remove_stopwords:\n",
    "    stop_words = stopwords.words('english')\n",
    "    q1_train_sp = [[w for w in q if w not in stop_words ] for q in q1_train_sp]\n",
    "    q2_train_sp = [[w for w in q if w not in stop_words ] for q in q2_train_sp]\n",
    "    q1_test_sp =  [[w for w in q if w not in stop_words ] for q in q1_test_sp]\n",
    "    q2_test_sp =  [[w for w in q if w not in stop_words ] for q in q2_test_sp]"
   ]
  },
  {
   "cell_type": "code",
   "execution_count": 14,
   "metadata": {},
   "outputs": [
    {
     "name": "stdout",
     "output_type": "stream",
     "text": [
      "65 58 73 49\n"
     ]
    }
   ],
   "source": [
    "m1 =  max([len(q) for q in q1_train_sp])\n",
    "m2 =  max([len(q) for q in q2_train_sp])\n",
    "m3 =  max([len(q) for q in q1_test_sp])\n",
    "m4 =  max([len(q) for q in q2_test_sp])\n",
    "print m1,m2,m3,m4"
   ]
  },
  {
   "cell_type": "code",
   "execution_count": 15,
   "metadata": {},
   "outputs": [],
   "source": [
    "seq_length = max([m1,m2,m3,m4]) # maximum word per question "
   ]
  },
  {
   "cell_type": "markdown",
   "metadata": {},
   "source": [
    "## Count words and convert it to index (ordered in occurences)"
   ]
  },
  {
   "cell_type": "code",
   "execution_count": 16,
   "metadata": {},
   "outputs": [
    {
     "name": "stdout",
     "output_type": "stream",
     "text": [
      "Nombre de mot dans le vocabulaire de train : 23059\n"
     ]
    }
   ],
   "source": [
    "words = {}\n",
    "for i in range(len(q1_train_sp)):\n",
    "    for q in q1_train_sp[i]:\n",
    "        if q in words:\n",
    "            words[q] += 1\n",
    "        else:\n",
    "            words[q] = 1\n",
    "for i in range(len(q2_train_sp)):\n",
    "    for q in q2_train_sp[i]:\n",
    "        if q in words:\n",
    "            words[q] += 1\n",
    "        else:\n",
    "            words[q] = 1\n",
    "            \n",
    "sorted_words = sorted(words.items(),key=itemgetter(1), reverse=True)\n",
    "words_index ={}\n",
    "for num,couple in enumerate(sorted_words):\n",
    "    words_index[couple[0]] = num + 1\n",
    "\n",
    "num_words = len(sorted_words)\n",
    "print \"Nombre de mot dans le vocabulaire de train :\",num_words\n",
    "\n",
    "def get_index(word,vocab):\n",
    "    if word in vocab:\n",
    "        return vocab[word]\n",
    "    return 0\n",
    "q1_train_sp_ind = [ [get_index(word,words_index) for word in sentence] for sentence in q1_train_sp]\n",
    "q2_train_sp_ind = [ [get_index(word,words_index) for word in sentence] for sentence in q2_train_sp]\n",
    "q1_test_sp_ind = [ [get_index(word,words_index) for word in sentence] for sentence in q1_test_sp]\n",
    "q2_test_sp_ind = [ [get_index(word,words_index) for word in sentence] for sentence in q2_test_sp]"
   ]
  },
  {
   "cell_type": "markdown",
   "metadata": {},
   "source": [
    "## Zero pad questions to have same length to make it ok for LSTM input"
   ]
  },
  {
   "cell_type": "code",
   "execution_count": 17,
   "metadata": {},
   "outputs": [],
   "source": [
    "q1_train_sp_ind_pad = sequence.pad_sequences(q1_train_sp_ind, maxlen=seq_length,padding='post')\n",
    "q2_train_sp_ind_pad = sequence.pad_sequences(q2_train_sp_ind, maxlen=seq_length,padding='post')\n",
    "q1_test_sp_ind_pad = sequence.pad_sequences(q1_test_sp_ind, maxlen=seq_length,padding='post')\n",
    "q2_test_sp_ind_pad = sequence.pad_sequences(q2_test_sp_ind, maxlen=seq_length,padding='post')"
   ]
  },
  {
   "cell_type": "code",
   "execution_count": 18,
   "metadata": {},
   "outputs": [],
   "source": [
    "test_size = 0.1\n",
    "q1_train,q1_val,q2_train,q2_val,X_train,X_val,Y_train,Y_val = train_test_split(q1_train_sp_ind_pad,q2_train_sp_ind_pad,X,Y, test_size=test_size)"
   ]
  },
  {
   "cell_type": "markdown",
   "metadata": {},
   "source": [
    "## LSTM Without features"
   ]
  },
  {
   "cell_type": "code",
   "execution_count": 19,
   "metadata": {},
   "outputs": [],
   "source": [
    "embedding_dim = 300 # embeding size\n",
    "dropout_rate = 0.5\n",
    "\n",
    "lstm_input1 = Input(shape=(seq_length,), name='question1')\n",
    "lstm_input2 = Input(shape=(seq_length,), name='question2')\n",
    "\n",
    "E_layer = Embedding(num_words, embedding_dim, weights=None, input_length=seq_length, trainable=True,mask_zero=True,name='Words_embedding')\n",
    "emb1 = E_layer(lstm_input1)\n",
    "emb2 = E_layer(lstm_input2)\n",
    "\n",
    "lstm_layer = LSTM(units=512,dropout=dropout_rate,name='LSTM')\n",
    "lstm1 = lstm_layer(emb1)\n",
    "lstm2 = lstm_layer(emb2)\n",
    "x = multiply([lstm1,lstm2],name=\"Merge\")\n",
    "x = Dense(1024, activation='sigmoid',name=\"Fully_connected\")(x)\n",
    "x = Dense(1, activation='sigmoid',name=\"Output\")(x)\n",
    "model = Model(inputs=[lstm_input1,lstm_input2],outputs=x)"
   ]
  },
  {
   "cell_type": "code",
   "execution_count": 20,
   "metadata": {},
   "outputs": [
    {
     "name": "stdout",
     "output_type": "stream",
     "text": [
      "__________________________________________________________________________________________________\n",
      "Layer (type)                    Output Shape         Param #     Connected to                     \n",
      "==================================================================================================\n",
      "question1 (InputLayer)          (None, 73)           0                                            \n",
      "__________________________________________________________________________________________________\n",
      "question2 (InputLayer)          (None, 73)           0                                            \n",
      "__________________________________________________________________________________________________\n",
      "Words_embedding (Embedding)     (None, 73, 300)      6917700     question1[0][0]                  \n",
      "                                                                 question2[0][0]                  \n",
      "__________________________________________________________________________________________________\n",
      "LSTM (LSTM)                     (None, 512)          1665024     Words_embedding[0][0]            \n",
      "                                                                 Words_embedding[1][0]            \n",
      "__________________________________________________________________________________________________\n",
      "Merge (Multiply)                (None, 512)          0           LSTM[0][0]                       \n",
      "                                                                 LSTM[1][0]                       \n",
      "__________________________________________________________________________________________________\n",
      "Fully_connected (Dense)         (None, 1024)         525312      Merge[0][0]                      \n",
      "__________________________________________________________________________________________________\n",
      "Output (Dense)                  (None, 1)            1025        Fully_connected[0][0]            \n",
      "==================================================================================================\n",
      "Total params: 9,109,061\n",
      "Trainable params: 9,109,061\n",
      "Non-trainable params: 0\n",
      "__________________________________________________________________________________________________\n"
     ]
    }
   ],
   "source": [
    "model.summary()"
   ]
  },
  {
   "cell_type": "markdown",
   "metadata": {},
   "source": [
    "# Create the image that represents the model"
   ]
  },
  {
   "cell_type": "code",
   "execution_count": 22,
   "metadata": {},
   "outputs": [],
   "source": [
    "plot_model(model,to_file='model_lstm_no_features.png')"
   ]
  },
  {
   "cell_type": "code",
   "execution_count": null,
   "metadata": {
    "scrolled": true
   },
   "outputs": [],
   "source": [
    "opt = keras.optimizers.RMSprop(lr=0.001)\n",
    "model.compile(loss='binary_crossentropy', optimizer=opt)\n",
    "weights_path = os.path.join(data_dir,'weights_LSTM')\n",
    "weights_path_best = weights_path + \".best.h5\"\n",
    "weights_path_last = weights_path + \".last.h5\"\n",
    "checkpoint_best = ModelCheckpoint(weights_path_best, monitor='val_loss', verbose=1, save_best_only=True, save_weights_only=True, mode='min')\n",
    "checkpoint_last = ModelCheckpoint(weights_path_last, verbose=1, save_weights_only=True, period=2)\n",
    "callbacks = [checkpoint_best,checkpoint_last]\n",
    "history = model.fit([q1_train,q2_train],Y_train,epochs=10,validation_data =([q1_val,q2_val],Y_val),callbacks=callbacks,batch_size=512)"
   ]
  },
  {
   "cell_type": "code",
   "execution_count": null,
   "metadata": {},
   "outputs": [],
   "source": [
    "opt = keras.optimizers.RMSprop(lr=0.001)\n",
    "model.compile(loss='binary_crossentropy', optimizer=opt)\n",
    "history2 = model.fit([np.vstack([q1_train,q2_train]),np.vstack([q2_train,q1_train])],np.hstack([Y_train,Y_train]),epochs=5,validation_data =([q1_val,q2_val],Y_val),callbacks=callbacks,batch_size=512)"
   ]
  },
  {
   "cell_type": "code",
   "execution_count": null,
   "metadata": {},
   "outputs": [],
   "source": [
    "plt.rcParams[\"figure.figsize\"] = (14,8)\n",
    "plt.plot(history.history[\"loss\"]+history2.history[\"loss\"])\n",
    "plt.plot(history.history[\"val_loss\"]+history2.history[\"val_loss\"])\n",
    "plt.ylabel(\"loss\")\n",
    "plt.xlabel(\"epoch\")\n",
    "plt.legend([\"train\", \"val\"], loc=\"upper right\")\n",
    "plt.show()"
   ]
  },
  {
   "cell_type": "markdown",
   "metadata": {},
   "source": [
    "## Load best model and predict"
   ]
  },
  {
   "cell_type": "code",
   "execution_count": null,
   "metadata": {},
   "outputs": [],
   "source": [
    "model.load_weights(weights_path_best)\n",
    "pred = model.predict([X_test])"
   ]
  },
  {
   "cell_type": "markdown",
   "metadata": {},
   "source": [
    "## save result in csv"
   ]
  },
  {
   "cell_type": "code",
   "execution_count": null,
   "metadata": {},
   "outputs": [],
   "source": [
    "df_pred = pd.DataFrame(pred)\n",
    "df_pred.index = X_test.index\n",
    "df_pred.columns = [\"Score\"]\n",
    "df_pred.to_csv(\"data/submission_file_LSTM_no_features.csv\",index_label=\"Id\")\n",
    "df_pred.describe()"
   ]
  },
  {
   "cell_type": "markdown",
   "metadata": {},
   "source": [
    "# LSTM with features"
   ]
  },
  {
   "cell_type": "code",
   "execution_count": 26,
   "metadata": {},
   "outputs": [],
   "source": [
    "embedding_dim = 300 # embeding size\n",
    "dropout_rate = 0.5\n",
    "\n",
    "lstm_input1 = Input(shape=(seq_length,), name='question1')\n",
    "lstm_input2 = Input(shape=(seq_length,), name='question2')\n",
    "input_features = Input(shape=(number_of_features,), name='Features')\n",
    "\n",
    "E_layer = Embedding(num_words, embedding_dim, weights=None, input_length=seq_length, trainable=True,mask_zero=True,name='Words_embedding')\n",
    "emb1 = E_layer(lstm_input1)\n",
    "emb2 = E_layer(lstm_input2)\n",
    "\n",
    "lstm_layer = LSTM(units=512,dropout=dropout_rate,name=\"LSTM\")\n",
    "lstm1 = lstm_layer(emb1)\n",
    "lstm2 = lstm_layer(emb2)\n",
    "norm = Lambda(lambda feature : K.l2_normalize(feature),name=\"L2_normalization\")\n",
    "lstm1_norm = norm(lstm1)\n",
    "lstm2_norm = norm(lstm2)\n",
    "#x = multiply([lstm1_norm,lstm2_norm],name=\"Merge_questions\")\n",
    "#x = concatenate([x,input_features],name=\"Merge\")\n",
    "x = concatenate([lstm1_norm,lstm2_norm,input_features],name=\"Merge\")\n",
    "x = Dense(1024, activation='sigmoid',name=\"Fully_connected\")(x)\n",
    "x = Dense(1, activation='sigmoid',name=\"Output\")(x)\n",
    "model = Model(inputs=[lstm_input1,lstm_input2,input_features],outputs=x)"
   ]
  },
  {
   "cell_type": "code",
   "execution_count": 27,
   "metadata": {},
   "outputs": [
    {
     "name": "stdout",
     "output_type": "stream",
     "text": [
      "__________________________________________________________________________________________________\n",
      "Layer (type)                    Output Shape         Param #     Connected to                     \n",
      "==================================================================================================\n",
      "question1 (InputLayer)          (None, 73)           0                                            \n",
      "__________________________________________________________________________________________________\n",
      "question2 (InputLayer)          (None, 73)           0                                            \n",
      "__________________________________________________________________________________________________\n",
      "Words_embedding (Embedding)     (None, 73, 300)      6917700     question1[0][0]                  \n",
      "                                                                 question2[0][0]                  \n",
      "__________________________________________________________________________________________________\n",
      "LSTM (LSTM)                     (None, 512)          1665024     Words_embedding[0][0]            \n",
      "                                                                 Words_embedding[1][0]            \n",
      "__________________________________________________________________________________________________\n",
      "L2_normalization (Lambda)       (None, 512)          0           LSTM[0][0]                       \n",
      "                                                                 LSTM[1][0]                       \n",
      "__________________________________________________________________________________________________\n",
      "Features (InputLayer)           (None, 158)          0                                            \n",
      "__________________________________________________________________________________________________\n",
      "Merge (Concatenate)             (None, 1182)         0           L2_normalization[0][0]           \n",
      "                                                                 L2_normalization[1][0]           \n",
      "                                                                 Features[0][0]                   \n",
      "__________________________________________________________________________________________________\n",
      "Fully_connected (Dense)         (None, 1024)         1211392     Merge[0][0]                      \n",
      "__________________________________________________________________________________________________\n",
      "Output (Dense)                  (None, 1)            1025        Fully_connected[0][0]            \n",
      "==================================================================================================\n",
      "Total params: 9,795,141\n",
      "Trainable params: 9,795,141\n",
      "Non-trainable params: 0\n",
      "__________________________________________________________________________________________________\n"
     ]
    }
   ],
   "source": [
    "model.summary()"
   ]
  },
  {
   "cell_type": "code",
   "execution_count": 25,
   "metadata": {},
   "outputs": [],
   "source": [
    "plot_model(model,to_file='model_lstm_with_features.png')"
   ]
  },
  {
   "cell_type": "code",
   "execution_count": null,
   "metadata": {
    "scrolled": true
   },
   "outputs": [],
   "source": [
    "opt = keras.optimizers.RMSprop(lr=0.001)\n",
    "model.compile(loss='binary_crossentropy', optimizer=opt)\n",
    "weights_path = os.path.join(data_dir,'weights_LSTM_features')\n",
    "weights_path_best = weights_path + \".best.h5\"\n",
    "weights_path_last = weights_path + \".last.h5\"\n",
    "checkpoint_best = ModelCheckpoint(weights_path_best, monitor='val_loss', verbose=1, save_best_only=True, save_weights_only=True, mode='min')\n",
    "checkpoint_last = ModelCheckpoint(weights_path_last, verbose=1, save_weights_only=True, period=2)\n",
    "callbacks = [checkpoint_best,checkpoint_last]\n",
    "history = model.fit([q1_train,q2_train,X_train],Y_train,epochs=15,validation_data =([q1_val,q2_val,X_val],Y_val),callbacks=callbacks,batch_size=512)"
   ]
  },
  {
   "cell_type": "code",
   "execution_count": null,
   "metadata": {
    "scrolled": false
   },
   "outputs": [],
   "source": [
    "opt = keras.optimizers.sgd(lr=0.0001)\n",
    "model.compile(loss='binary_crossentropy', optimizer=opt)\n",
    "history2 =  model.fit([q1_train,q2_train,X_train],Y_train,epochs=15,validation_data =([q1_val,q2_val,X_val],Y_val),callbacks=callbacks,batch_size=512)"
   ]
  },
  {
   "cell_type": "code",
   "execution_count": 40,
   "metadata": {},
   "outputs": [
    {
     "data": {
      "image/png": "[encoded data removed]",
      "text/plain": [
       "<matplotlib.figure.Figure at 0x7f0b627a3c90>"
      ]
     },
     "metadata": {},
     "output_type": "display_data"
    }
   ],
   "source": [
    "plt.rcParams[\"figure.figsize\"] = (14,8)\n",
    "plt.plot(history.history[\"loss\"]+history2.history[\"loss\"])\n",
    "plt.plot(history.history[\"val_loss\"]+history2.history[\"val_loss\"])\n",
    "plt.ylabel(\"loss\")\n",
    "plt.xlabel(\"epoch\")\n",
    "plt.legend([\"train\", \"val\"], loc=\"upper right\")\n",
    "plt.show()"
   ]
  },
  {
   "cell_type": "markdown",
   "metadata": {},
   "source": [
    "## Load best model and predict"
   ]
  },
  {
   "cell_type": "code",
   "execution_count": null,
   "metadata": {},
   "outputs": [],
   "source": [
    "model.load_weights(weights_path_best)\n",
    "pred = model.predict([X_test])"
   ]
  },
  {
   "cell_type": "markdown",
   "metadata": {},
   "source": [
    "## save result in csv"
   ]
  },
  {
   "cell_type": "code",
   "execution_count": null,
   "metadata": {},
   "outputs": [],
   "source": [
    "df_pred = pd.DataFrame(pred)\n",
    "df_pred.index = X_test.index\n",
    "df_pred.columns = [\"Score\"]\n",
    "df_pred.to_csv(\"data/submission_file_LSTM_with_features.csv\",index_label=\"Id\")\n",
    "df_pred.describe()"
   ]
  }
 ],
 "metadata": {
  "kernelspec": {
   "display_name": "Python 2",
   "language": "python",
   "name": "python2"
  },
  "language_info": {
   "codemirror_mode": {
    "name": "ipython",
    "version": 2
   },
   "file_extension": ".py",
   "mimetype": "text/x-python",
   "name": "python",
   "nbconvert_exporter": "python",
   "pygments_lexer": "ipython2",
   "version": "2.7.10"
  }
 },
 "nbformat": 4,
 "nbformat_minor": 2
}
